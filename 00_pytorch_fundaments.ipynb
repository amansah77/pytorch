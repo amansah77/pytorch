{
 "cells": [
  {
   "cell_type": "code",
   "execution_count": null,
   "id": "4ff9a7c2",
   "metadata": {},
   "outputs": [],
   "source": [
    "## 0.0 pytorch fundamentals "
   ]
  },
  {
   "cell_type": "code",
   "execution_count": null,
   "id": "9e13bd1e",
   "metadata": {},
   "outputs": [],
   "source": [
    "import torch\n",
    "print(torch.__version__)\n"
   ]
  },
  {
   "cell_type": "code",
   "execution_count": null,
   "id": "6f593ac0",
   "metadata": {},
   "outputs": [],
   "source": [
    "import numpy as np\n",
    "import matplotlib.pyplot as plt\n",
    "import pandas as pd\n"
   ]
  },
  {
   "cell_type": "markdown",
   "id": "a29b7aa2",
   "metadata": {},
   "source": [
    "## Introduction to tensors"
   ]
  },
  {
   "cell_type": "code",
   "execution_count": null,
   "id": "695861fc",
   "metadata": {},
   "outputs": [],
   "source": [
    "#scalar -- way to create a tensor \n",
    "scalar = torch.tensor(7)\n",
    "scalar\n"
   ]
  },
  {
   "cell_type": "code",
   "execution_count": null,
   "id": "52888155",
   "metadata": {},
   "outputs": [],
   "source": [
    "scalar.ndim"
   ]
  },
  {
   "cell_type": "code",
   "execution_count": null,
   "id": "ff5ba28a",
   "metadata": {},
   "outputs": [],
   "source": [
    "## get tensor back as python int \n",
    "scalar.item()"
   ]
  },
  {
   "cell_type": "code",
   "execution_count": null,
   "id": "cd898690",
   "metadata": {},
   "outputs": [],
   "source": [
    "#vector \n",
    "vector = torch.tensor([7,7])\n",
    "vector"
   ]
  },
  {
   "cell_type": "code",
   "execution_count": null,
   "id": "617470bc",
   "metadata": {},
   "outputs": [],
   "source": [
    "vector.ndim"
   ]
  },
  {
   "cell_type": "code",
   "execution_count": null,
   "id": "a9fada7b",
   "metadata": {},
   "outputs": [],
   "source": [
    "vector.shape\n"
   ]
  },
  {
   "cell_type": "code",
   "execution_count": null,
   "id": "25b9fdf9",
   "metadata": {},
   "outputs": [],
   "source": [
    "#matrix \n",
    "MATRIX =torch.tensor([[7,8],[9,10]])\n",
    "MATRIX"
   ]
  },
  {
   "cell_type": "code",
   "execution_count": null,
   "id": "3336f3d4",
   "metadata": {},
   "outputs": [],
   "source": [
    "#finding number of dimensions \n",
    "MATRIX.ndim"
   ]
  },
  {
   "cell_type": "code",
   "execution_count": null,
   "id": "be77af4a",
   "metadata": {},
   "outputs": [],
   "source": [
    "#accessing the matrix of certain dimensions in the below its of 1st demensions \n",
    "MATRIX[1]"
   ]
  },
  {
   "cell_type": "code",
   "execution_count": null,
   "id": "50349d00",
   "metadata": {},
   "outputs": [],
   "source": [
    "MATRIX =torch.tensor([[[[7,8,9,10],[5,8,9,10],[1,2,3,4],[5,6,7,8]]]])\n",
    "MATRIX"
   ]
  },
  {
   "cell_type": "code",
   "execution_count": null,
   "id": "b262659c",
   "metadata": {},
   "outputs": [],
   "source": [
    "\n",
    "MATRIX.shape"
   ]
  },
  {
   "cell_type": "markdown",
   "id": "62d07ec4",
   "metadata": {},
   "source": [
    "### Random Tensors"
   ]
  },
  {
   "cell_type": "markdown",
   "id": "de482391",
   "metadata": {},
   "source": [
    "why random tensors?\n",
    "Random tensors are important because the way many neural networks learns is that thwy start with tensors full of random numbers and then adjust those random numbers to better represent the data.\n",
    "\n",
    "`start with the random numbers-> look at data ->update random numbers ->look at data ->update data `"
   ]
  },
  {
   "cell_type": "code",
   "execution_count": null,
   "id": "ac3cf0fb",
   "metadata": {},
   "outputs": [],
   "source": [
    "#create a random tensor of size (3,4)\n",
    "random_tensor = torch.rand(3,4)\n",
    "random_tensor"
   ]
  },
  {
   "cell_type": "code",
   "execution_count": null,
   "id": "3e50ad64",
   "metadata": {},
   "outputs": [],
   "source": [
    "#creating a random tensor with similar shape to an image tensor \n",
    "random_image_size_tensor = torch.rand(size =(3,224,224))   # colour channels (R,G,B),height,width\n",
    "random_image_size_tensor.shape,random_image_size_tensor.ndim"
   ]
  },
  {
   "cell_type": "markdown",
   "id": "cf4cacd1",
   "metadata": {},
   "source": [
    "### Zeros and Ones\n"
   ]
  },
  {
   "cell_type": "code",
   "execution_count": null,
   "id": "3ee11b4d",
   "metadata": {},
   "outputs": [],
   "source": [
    "#create a tensorr of all zeros \n",
    "zeros = torch.zeros(size=(3,4))\n",
    "zeros"
   ]
  },
  {
   "cell_type": "code",
   "execution_count": null,
   "id": "599a9788",
   "metadata": {},
   "outputs": [],
   "source": [
    "#create a tensorr of all ones\n",
    "ones = torch.ones(size=(3,4))\n",
    "ones"
   ]
  },
  {
   "cell_type": "code",
   "execution_count": null,
   "id": "b143b947",
   "metadata": {},
   "outputs": [],
   "source": [
    "#checking data types\n",
    "ones.dtype"
   ]
  },
  {
   "cell_type": "markdown",
   "id": "8926c3ff",
   "metadata": {},
   "source": [
    "### Creating a range of tensors and tensors-like "
   ]
  },
  {
   "cell_type": "code",
   "execution_count": null,
   "id": "278413bd",
   "metadata": {},
   "outputs": [],
   "source": [
    "#use torch.arange()\n",
    "one_to_ten = torch.arange(start=1,end=11,step=1)\n",
    "one_to_ten"
   ]
  },
  {
   "cell_type": "code",
   "execution_count": null,
   "id": "c3eee03c",
   "metadata": {},
   "outputs": [],
   "source": [
    "#creating a tensor like \n",
    "ten_zeros = torch.zeros_like(input=one_to_ten)\n",
    "ten_zeros"
   ]
  },
  {
   "cell_type": "markdown",
   "id": "92081510",
   "metadata": {},
   "source": [
    "### Tensors Datatype\n",
    "\n",
    "Note: Tensor datatypes is one of the 3 big errors you'll run into with pytorch & deep learning:\n",
    "1. Tensor not right datatype \n",
    "2. Tensors not right shape \n",
    "3. Tensors not on the right device \n"
   ]
  },
  {
   "cell_type": "code",
   "execution_count": null,
   "id": "d1ec5353",
   "metadata": {},
   "outputs": [],
   "source": [
    "float_32_tensor = torch.tensor([3.0,6.0,9.0],dtype=None, #what datatypes is the tensor (e.g float 32 or float 16) \n",
    "device=None,#what device is your tensor on \n",
    "requires_grad=False) #whether or not to track gradients with this tensors operations \n",
    "float_32_tensor"
   ]
  },
  {
   "cell_type": "code",
   "execution_count": null,
   "id": "1f48136a",
   "metadata": {},
   "outputs": [],
   "source": [
    "float_32_tensor.dtype"
   ]
  },
  {
   "cell_type": "code",
   "execution_count": null,
   "id": "c02ec2c8",
   "metadata": {},
   "outputs": [],
   "source": [
    "float_16_tensor = float_32_tensor.type(torch.float16)\n",
    "float_16_tensor"
   ]
  },
  {
   "cell_type": "code",
   "execution_count": null,
   "id": "8253fe8c",
   "metadata": {},
   "outputs": [],
   "source": [
    "float_16_tensor * float_32_tensor"
   ]
  },
  {
   "cell_type": "markdown",
   "id": "fb108e0d",
   "metadata": {},
   "source": [
    "### Getting information from tensors \n",
    "\n",
    "1. Tensorsnot right datatype - to do get datatype from tensor, can use tensor.dtype\n",
    " 2. Tensors not right shape -to get shape from a tensor, can use tensor.shape\n",
    " 3. Tensors not on the right device - to get devices from a tensor,can use tensor.device"
   ]
  },
  {
   "cell_type": "code",
   "execution_count": null,
   "id": "b3bbe285",
   "metadata": {},
   "outputs": [],
   "source": [
    "# Create a tensor \n",
    "some_tensor = torch.rand(3,4)\n",
    "some_tensor"
   ]
  },
  {
   "cell_type": "code",
   "execution_count": null,
   "id": "4e63e88c",
   "metadata": {},
   "outputs": [],
   "source": [
    "#find out the details about some tensors \n",
    "print(some_tensor)\n",
    "print(f\"Datatype of tensor: {some_tensor.dtype}\")\n",
    "print(f\"Shape of tensor: {some_tensor.shape}\")\n",
    "print(f\"Device of tensor: {some_tensor.device}\")"
   ]
  },
  {
   "cell_type": "markdown",
   "id": "82312587",
   "metadata": {},
   "source": [
    "### Manipulating Tensors(tensors operations)\n",
    "Tensor operations include :\n",
    "* Addition\n",
    "* Subtraction\n",
    "* Multiplication (element-wise)\n",
    "* Division \n",
    "* Matrix Multipklication "
   ]
  },
  {
   "cell_type": "code",
   "execution_count": null,
   "id": "f583de3f",
   "metadata": {},
   "outputs": [],
   "source": [
    "# create  a tensor and adding 10 to it\n",
    "tensor = torch.tensor([1,2,3])\n",
    "tensor + 10"
   ]
  },
  {
   "cell_type": "code",
   "execution_count": null,
   "id": "a21a188a",
   "metadata": {},
   "outputs": [],
   "source": [
    "# multiplying tensor by 10\n",
    "tensor *10"
   ]
  },
  {
   "cell_type": "code",
   "execution_count": null,
   "id": "5d8f778c",
   "metadata": {},
   "outputs": [],
   "source": [
    "tensor"
   ]
  },
  {
   "cell_type": "code",
   "execution_count": null,
   "id": "d516054e",
   "metadata": {},
   "outputs": [],
   "source": [
    "#subtract 10\n",
    "tensor - 10"
   ]
  },
  {
   "cell_type": "code",
   "execution_count": null,
   "id": "a25c1a00",
   "metadata": {},
   "outputs": [],
   "source": [
    "# Try pytorch in-built Functions\n",
    "torch.add(tensor,10) "
   ]
  },
  {
   "cell_type": "markdown",
   "id": "af137589",
   "metadata": {},
   "source": [
    "### Matric Multiplications\n",
    "\n",
    "Two main ways of performing Multiplications in neural networks and deep learning:\n",
    "\n",
    "1. Element-Wise Multiplication \n",
    "2. Matrix Multiplication (dot product)\n",
    "\n",
    "`matrix multiplication has same rules of mathematics`\n"
   ]
  },
  {
   "cell_type": "code",
   "execution_count": null,
   "id": "b7cadbc3",
   "metadata": {},
   "outputs": [],
   "source": [
    "#Element wise multiplication \n",
    "print(tensor, \"*\", tensor )\n",
    "print(f\"Equals:{tensor * tensor}\")"
   ]
  },
  {
   "cell_type": "code",
   "execution_count": null,
   "id": "c6f8d0bb",
   "metadata": {},
   "outputs": [],
   "source": [
    "# matrix multiplications \n",
    "torch.matmul(tensor,tensor)"
   ]
  },
  {
   "cell_type": "code",
   "execution_count": null,
   "id": "0b3e15c2",
   "metadata": {},
   "outputs": [],
   "source": [
    "tensor1= torch.tensor([[1,2],[2,3]])\n",
    "tensor1\n"
   ]
  },
  {
   "cell_type": "code",
   "execution_count": null,
   "id": "25bd0823",
   "metadata": {},
   "outputs": [],
   "source": [
    "tensor2= torch.tensor([[5,2],[5,3]])\n",
    "tensor2"
   ]
  },
  {
   "cell_type": "code",
   "execution_count": null,
   "id": "f2e9d485",
   "metadata": {},
   "outputs": [],
   "source": [
    "torch.matmul(tensor1,tensor2)"
   ]
  },
  {
   "cell_type": "code",
   "execution_count": null,
   "id": "ee17de63",
   "metadata": {},
   "outputs": [],
   "source": [
    "%%time \n",
    "value = 0\n",
    "for i in range(len(tensor)):\n",
    "    value+= tensor[i]* tensor[i]\n",
    "    print(value)"
   ]
  },
  {
   "cell_type": "code",
   "execution_count": null,
   "id": "0dfd9f33",
   "metadata": {},
   "outputs": [],
   "source": [
    "%%time\n",
    "torch.matmul(tensor,tensor)"
   ]
  },
  {
   "cell_type": "code",
   "execution_count": null,
   "id": "aa3847a8",
   "metadata": {},
   "outputs": [],
   "source": [
    "#shapes for matrix Multiplications\n",
    "tensor_A = torch.tensor([[1,2],[3,4],[5,6]])\n",
    "tensor_B = torch.tensor([[7,10],[8,11],[9,12]])"
   ]
  },
  {
   "cell_type": "markdown",
   "id": "a57ccdf9",
   "metadata": {},
   "source": [
    "### torch.matmul(tensor_A,tensor_B) \n",
    " This code will give error as it doesnt satisfies the matrix multipication dimensions rules and 3*2 and 3*2 cannot be multiplied \n",
    "there is one solution for this which is transpose of a matrix and after which it will allow us to perform the oprations "
   ]
  },
  {
   "cell_type": "code",
   "execution_count": null,
   "id": "f14a224e",
   "metadata": {},
   "outputs": [],
   "source": [
    "#how to do transpose of a matrix\n",
    "tensor_B.T"
   ]
  },
  {
   "cell_type": "code",
   "execution_count": null,
   "id": "be104214",
   "metadata": {},
   "outputs": [],
   "source": [
    "tensor_B"
   ]
  },
  {
   "cell_type": "code",
   "execution_count": null,
   "id": "489eef88",
   "metadata": {},
   "outputs": [],
   "source": [
    "torch.matmul(tensor_B.T,tensor_A)\n"
   ]
  },
  {
   "cell_type": "markdown",
   "id": "66cd90a7",
   "metadata": {},
   "source": [
    "### Finding the min,max,mean,sum etc (tensor aggregation)"
   ]
  },
  {
   "cell_type": "code",
   "execution_count": null,
   "id": "0867b809",
   "metadata": {},
   "outputs": [],
   "source": [
    "# create a tensor \n",
    "x= torch.arange(0,100,10)\n",
    "x"
   ]
  },
  {
   "cell_type": "code",
   "execution_count": null,
   "id": "920afdac",
   "metadata": {},
   "outputs": [],
   "source": [
    "#find max\n",
    "torch.max(x), x.max()"
   ]
  },
  {
   "cell_type": "code",
   "execution_count": null,
   "id": "b0cbe492",
   "metadata": {},
   "outputs": [],
   "source": [
    "#find mean - the mean should always be float so type casted of  form int to float32\n",
    "torch.mean(x.type(torch.float32))  ,   x.type(torch.float32).mean()"
   ]
  },
  {
   "cell_type": "markdown",
   "id": "951714b2",
   "metadata": {},
   "source": [
    "### Finding the Positional Min and Max"
   ]
  },
  {
   "cell_type": "code",
   "execution_count": null,
   "id": "9b7f01c9",
   "metadata": {},
   "outputs": [],
   "source": [
    "x"
   ]
  },
  {
   "cell_type": "code",
   "execution_count": null,
   "id": "277dead3",
   "metadata": {},
   "outputs": [],
   "source": [
    "# fFinding the position in tensor that has the minimum value - > returns the index of minimum \n",
    "x.argmin()"
   ]
  },
  {
   "cell_type": "code",
   "execution_count": null,
   "id": "26da9242",
   "metadata": {},
   "outputs": [],
   "source": [
    "# fFinding the position in tensor that has the maximum value - > returns the index of maximum\n",
    "x.argmax()"
   ]
  },
  {
   "cell_type": "code",
   "execution_count": null,
   "id": "839354f0",
   "metadata": {},
   "outputs": [],
   "source": [
    "\n"
   ]
  }
 ],
 "metadata": {
  "kernelspec": {
   "display_name": "myenv",
   "language": "python",
   "name": "python3"
  },
  "language_info": {
   "codemirror_mode": {
    "name": "ipython",
    "version": 3
   },
   "file_extension": ".py",
   "mimetype": "text/x-python",
   "name": "python",
   "nbconvert_exporter": "python",
   "pygments_lexer": "ipython3",
   "version": "3.13.5"
  }
 },
 "nbformat": 4,
 "nbformat_minor": 5
}
